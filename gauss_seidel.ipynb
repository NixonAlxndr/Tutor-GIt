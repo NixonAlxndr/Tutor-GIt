{
 "cells": [
  {
   "cell_type": "code",
   "execution_count": 8,
   "metadata": {},
   "outputs": [],
   "source": [
    "import numpy as np"
   ]
  },
  {
   "cell_type": "code",
   "execution_count": 11,
   "metadata": {},
   "outputs": [],
   "source": [
    "xs = [\n",
    "    [\n",
    "        [10, 4, 5],\n",
    "        [1, 6, 1],\n",
    "        [3, 1, 6]\n",
    "    ],\n",
    "    [\n",
    "        [90, 4, 5, 6, 7],\n",
    "        [4, 100, 7, 8 ,9],\n",
    "        [4, 6, 50, 8, 8],\n",
    "        [9, 6, 23, 90, 3],\n",
    "        [9, 23, 3, 2, 100]\n",
    "    ]\n",
    "]\n",
    "\n",
    "ys = [\n",
    "    [8, 5, 10],\n",
    "    [30, 39, 23, 2, 12]\n",
    "]"
   ]
  },
  {
   "cell_type": "code",
   "execution_count": 10,
   "metadata": {},
   "outputs": [],
   "source": [
    "def diagonalDominant(x):\n",
    "    x = np.array(x)\n",
    "\n",
    "    diag = np.diag(x)\n",
    "\n",
    "    off_diag = np.sum(x, axis = 1) - diag \n",
    "\n",
    "    if np.all(diag > off_diag): \n",
    "        return True\n",
    "    else:\n",
    "        return False"
   ]
  },
  {
   "cell_type": "code",
   "execution_count": 11,
   "metadata": {},
   "outputs": [
    {
     "name": "stdout",
     "output_type": "stream",
     "text": [
      "Iteration 1 : [0.8  0.7  1.15]\n",
      "Iteration 2 : [-0.055       0.65083333  1.58569444]\n",
      "Iteration 3 : [-0.25318056  0.61124769  1.69138233]\n",
      "Iteration 4 : [-0.29019024  0.59980132  1.7117949 ]\n",
      "Iteration 5 : [-0.29581798  0.59733718  1.71501946]\n",
      "Iteration 6 : [-0.2964446   0.59690419  1.71540494]\n",
      "Converge\n",
      "Result: [-0.2964446   0.59690419  1.71540494]\n",
      "Iteration 1 : [ 0.33333333  0.37666667  0.38813333 -0.13541185 -0.0055691 ]\n",
      "Iteration 2 : [ 3.04490238e-01  3.61985224e-01  4.14759506e-01 -1.38167609e-01\n",
      " -3.40155948e-04]\n",
      "Iteration 3 : [ 3.03440537e-01  3.59913236e-01  4.14696411e-01 -1.38082680e-01\n",
      "  2.31068695e-04]\n",
      "Iteration 4 : [ 3.03486040e-01  3.59857628e-01  4.14594459e-01 -1.38076510e-01\n",
      "  2.42698408e-04]\n",
      "Converge\n",
      "Result: [ 3.03486040e-01  3.59857628e-01  4.14594459e-01 -1.38076510e-01\n",
      "  2.42698408e-04]\n"
     ]
    }
   ],
   "source": [
    "def gauss_seidel(x, y, epsilon = 0.001, t = 15):\n",
    "    if not diagonalDominant(x):\n",
    "        print('Not Diagonal Dominant')\n",
    "        return \n",
    "\n",
    "    x = np.array(x)\n",
    "    y = np.array(y)\n",
    "\n",
    "    diag = np.diag(x)\n",
    "    x = -x\n",
    "    np.fill_diagonal(x, 0)\n",
    "    old_result = np.zeros(x[0].shape)\n",
    "\n",
    "    for i in range(t):\n",
    "        new_result = np.array(old_result)\n",
    "\n",
    "        for idx, row in enumerate(x):\n",
    "            new_result[idx] = (y[idx] + np.dot(row, new_result)) / diag[idx]\n",
    "        print(f\"Iteration {i+ 1} : {new_result}\")\n",
    "\n",
    "        dx = np.sqrt(np.dot(new_result - old_result, new_result - old_result))\n",
    "\n",
    "        if dx < epsilon:\n",
    "            print('Converge')\n",
    "            print(f\"Result: {new_result}\")\n",
    "            return \n",
    "        old_result = new_result\n",
    "\n",
    "    print('No Converge')\n",
    "    return\n",
    "\n",
    "for idx, (x,y) in enumerate(zip(xs, ys)):\n",
    "    gauss_seidel(x, y)"
   ]
  },
  {
   "cell_type": "code",
   "execution_count": 17,
   "metadata": {},
   "outputs": [],
   "source": [
    "a = [\n",
    "    [\n",
    "        [9,2,-1],\n",
    "        [1,-5,2],\n",
    "        [2,69,-402]\n",
    "    ],\n",
    "    [\n",
    "        [2,-3,7],\n",
    "        [-7,10,9],\n",
    "        [4,-11,30]\n",
    "    ],\n",
    "    [\n",
    "        [123,20,4],\n",
    "        [-1,50,6],\n",
    "        [10,9,30]\n",
    "    ]\n",
    "]\n",
    "\n",
    "b = [\n",
    "    [41, -10, 12],\n",
    "    [4, 120, -12],\n",
    "    [69, 23, 14]\n",
    "]\n",
    "# GAUSS SEIDEL\n",
    "def diagonal_dominant(x):\n",
    "    x = np.array(x)\n",
    "    diag = np.abs(np.diag(x))\n",
    "    off_diag = np.sum(x, axis = 1) - diag\n",
    "\n",
    "    if np.all(diag > off_diag):\n",
    "        return True\n",
    "    else:\n",
    "        return False"
   ]
  },
  {
   "cell_type": "code",
   "execution_count": 21,
   "metadata": {},
   "outputs": [
    {
     "name": "stdout",
     "output_type": "stream",
     "text": [
      "Iteration 1: [4.55555556 2.91111111 0.49248203]\n",
      "Iteration 2: [3.9633622  2.98966525 0.50301897]\n",
      "Iteration 3: [3.9470765  2.99062289 0.50310232]\n",
      "Converge\n",
      "New Result [3.9470765  2.99062289 0.50310232]\n",
      "Not Diagonal Dominant\n",
      "Iteration 1: [0.56097561 0.47121951 0.13830894]\n",
      "Iteration 2: [0.4798567  0.45300006 0.17081442]\n",
      "Iteration 3: [0.48176212 0.44913751 0.17133804]\n",
      "Converge\n",
      "New Result [0.48176212 0.44913751 0.17133804]\n"
     ]
    }
   ],
   "source": [
    "def gauss_seidel(x, y, error = 0.022, t = 15):\n",
    "    if not diagonal_dominant(x):\n",
    "        print('Not Diagonal Dominant')\n",
    "        return \n",
    "    \n",
    "    x = np.array(x)\n",
    "    y = np.array(y)\n",
    "\n",
    "    diag = np.diag(x)\n",
    "    x = -x\n",
    "    np.fill_diagonal(x, 0)\n",
    "    old_result = np.zeros(x[0].shape)\n",
    "\n",
    "    for i in range(t):\n",
    "        new_result = np.array(old_result)\n",
    "\n",
    "        for idx, row in enumerate(x):\n",
    "            new_result[idx] = (y[idx] + np.dot(row, new_result)) / diag[idx]\n",
    "        print(f'Iteration {1 + i}: {new_result}')\n",
    "\n",
    "        dx = np.sqrt(np.dot(new_result - old_result, new_result - old_result))\n",
    "\n",
    "        if dx < error:\n",
    "            print('Converge')\n",
    "            print(f'New Result {new_result}')\n",
    "            return \n",
    "        old_result = new_result\n",
    "\n",
    "    print('Not Converge')\n",
    "    return \n",
    "\n",
    "\n",
    "for i, (x, y) in enumerate(zip(a, b)):\n",
    "    gauss_seidel(x, y)"
   ]
  },
  {
   "cell_type": "code",
   "execution_count": null,
   "metadata": {},
   "outputs": [],
   "source": []
  },
  {
   "cell_type": "code",
   "execution_count": null,
   "metadata": {},
   "outputs": [],
   "source": []
  }
 ],
 "metadata": {
  "kernelspec": {
   "display_name": "Python 3",
   "language": "python",
   "name": "python3"
  },
  "language_info": {
   "codemirror_mode": {
    "name": "ipython",
    "version": 3
   },
   "file_extension": ".py",
   "mimetype": "text/x-python",
   "name": "python",
   "nbconvert_exporter": "python",
   "pygments_lexer": "ipython3",
   "version": "3.13.0"
  }
 },
 "nbformat": 4,
 "nbformat_minor": 2
}
