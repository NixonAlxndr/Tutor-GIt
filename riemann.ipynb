{
 "cells": [
  {
   "cell_type": "code",
   "execution_count": 2,
   "metadata": {},
   "outputs": [],
   "source": [
    "import numpy as np"
   ]
  },
  {
   "cell_type": "code",
   "execution_count": 2,
   "metadata": {},
   "outputs": [
    {
     "name": "stdout",
     "output_type": "stream",
     "text": [
      "[3.         3.22222222 3.44444444 3.66666667 3.88888889 4.11111111\n",
      " 4.33333333 4.55555556 4.77777778]\n",
      "20.90534979423868\n",
      "24.460905349794235\n",
      "22.658436213991767\n",
      "22.683127572016456\n"
     ]
    }
   ],
   "source": [
    "def f(x):\n",
    "    return x**2 - 5\n",
    "\n",
    "# value terkecil\n",
    "start = 3\n",
    "# value terbesar\n",
    "end = 5\n",
    "# interval = berapa kotak\n",
    "interval = 10\n",
    "\n",
    "# lebar kotak\n",
    "h = (end - start) / (interval - 1)\n",
    "points = np.linspace(start, end, interval)\n",
    "print(points[:-1])\n",
    "\n",
    "leftRiemann = h * np.sum(f(points[:-1]))\n",
    "rightRiemann  = h * np.sum(f(points[1:]))\n",
    "midRiemann = h * np.sum(f((points[:-1] + points[1:])/2))\n",
    "trapezoidRiemann = h/2 * ( np.sum(f(points[0]) + f(points[-1])) + 2 * np.sum(f(points[1:-1])) )  \n",
    "\n",
    "print(leftRiemann)\n",
    "print(rightRiemann)\n",
    "print(midRiemann)\n",
    "print(trapezoidRiemann)\n"
   ]
  },
  {
   "cell_type": "code",
   "execution_count": 7,
   "metadata": {},
   "outputs": [
    {
     "name": "stdout",
     "output_type": "stream",
     "text": [
      "388.37754384856356\n",
      "389.2432753114893\n",
      "388.7947952162576\n",
      "388.8104095800264\n"
     ]
    }
   ],
   "source": [
    "# RIEMANN\n",
    "def f(x):\n",
    "    return 4 * x** 4 + 2 * x ** 3 - 6*x\n",
    "\n",
    "start = -3\n",
    "end = 3\n",
    "interval = 500\n",
    "\n",
    "h = (end -start)/(interval - 1)\n",
    "points = np.linspace(start, end, interval)\n",
    "\n",
    "leftRiemann = h* np.sum( f(points[:-1]) )\n",
    "rightRiemann = h* np.sum( f(points[1:]) )\n",
    "midRiemann = h * np.sum( f((points[1:] + points[:-1])/2) )\n",
    "trapezoidRiemann = h/2 * np.sum( f(points[0]) + f(points[-1]) + (2 * np.sum(f(points[1:-1]))) )\n",
    "\n",
    "\n",
    "print(leftRiemann)\n",
    "print(rightRiemann)\n",
    "print(midRiemann)\n",
    "print(trapezoidRiemann)"
   ]
  },
  {
   "cell_type": "code",
   "execution_count": null,
   "metadata": {},
   "outputs": [],
   "source": []
  }
 ],
 "metadata": {
  "kernelspec": {
   "display_name": "Python 3",
   "language": "python",
   "name": "python3"
  },
  "language_info": {
   "codemirror_mode": {
    "name": "ipython",
    "version": 3
   },
   "file_extension": ".py",
   "mimetype": "text/x-python",
   "name": "python",
   "nbconvert_exporter": "python",
   "pygments_lexer": "ipython3",
   "version": "3.13.0"
  }
 },
 "nbformat": 4,
 "nbformat_minor": 2
}
