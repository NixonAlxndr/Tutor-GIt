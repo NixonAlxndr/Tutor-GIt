{
 "cells": [
  {
   "cell_type": "code",
   "execution_count": 1,
   "metadata": {},
   "outputs": [],
   "source": [
    "import numpy as np"
   ]
  },
  {
   "cell_type": "markdown",
   "metadata": {},
   "source": [
    "# Newton Rhapson"
   ]
  },
  {
   "cell_type": "code",
   "execution_count": 9,
   "metadata": {},
   "outputs": [
    {
     "name": "stdout",
     "output_type": "stream",
     "text": [
      "root: 1.0000008243066978\n"
     ]
    }
   ],
   "source": [
    "# Persamaan 1\n",
    "def f(x):\n",
    "    return (x**6 + (2*x**2) - 3)\n",
    "\n",
    "# turunan dari persamaan 1\n",
    "def g(x):\n",
    "    return ((6*x**5) + (4*x))\n",
    "\n",
    "# def newton_rhapson(x, tolerance = 0.001, iteration = 30):\n",
    "#     for i in range(iteration):\n",
    "#         x = x - (f(x) / g(x))\n",
    "#         print(f\"Iteration ke {i+1}, root baru = {x}\")\n",
    "\n",
    "#         if(np.abs(f(x)) < tolerance):\n",
    "#             print(f\"Root: {x}\")\n",
    "#             return\n",
    "\n",
    "def newton_rhapson(x, tolerance= 0.001):\n",
    "    if(np.abs(f(x)) < tolerance):\n",
    "        print(f\"root: {x}\")\n",
    "        return\n",
    "    x = x - (f(x)/g(x))\n",
    "    newton_rhapson(x)\n",
    "\n",
    "newton_rhapson(4)        "
   ]
  },
  {
   "cell_type": "markdown",
   "metadata": {},
   "source": [
    "# Bisection Method"
   ]
  },
  {
   "cell_type": "code",
   "execution_count": 18,
   "metadata": {},
   "outputs": [
    {
     "name": "stdout",
     "output_type": "stream",
     "text": [
      "3 and 4 cannot be a bisection\n",
      "root of the x1 = -10 and x2 = 17 is -1.3180370330810547\n",
      "root of the x1 = 10 and x2 = -15 is -1.318063735961914\n",
      "root of the x1 = -2 and x2 = 4 is -1.318023681640625\n",
      "root of the x1 = 12 and x2 = -5 is -1.318084716796875\n",
      "-8 and -13 cannot be a bisection\n",
      "root of the x1 = 7 and x2 = -21 is -1.31805419921875\n"
     ]
    }
   ],
   "source": [
    "array = [\n",
    "    [3, 4],\n",
    "    [-10, 17],\n",
    "    [10, -15],\n",
    "    [-2, 4],\n",
    "    [12, -5],\n",
    "    [-8, -13],\n",
    "    [7, -21]\n",
    "]\n",
    "\n",
    "def f(x):\n",
    "    return (10*x**3) + (8*x**2) + 9\n",
    "\n",
    "def bisection(a, b, i, tolerance = 0.001):\n",
    "    if(np.sign(f(a)) == np.sign(f(b))):\n",
    "        print(f\"{a} and {b} cannot be a bisection\")\n",
    "        return\n",
    "    c = (a+b)/2\n",
    "\n",
    "    if(np.abs(f(c)) < tolerance):\n",
    "        print(f\"root of the x1 = {array[i][0]} and x2 = {array[i][1]} is {c}\")\n",
    "        return\n",
    "    elif(np.sign(f(c)) == np.sign(f(a))):\n",
    "        bisection(c, b, i, tolerance)\n",
    "    elif(np.sign(f(c)) == np.sign(f(b))):\n",
    "        bisection(a, c, i, tolerance)\n",
    "\n",
    "for i in range(len(array)):\n",
    "    bisection(array[i][0], array[i][1], i)"
   ]
  },
  {
   "cell_type": "code",
   "execution_count": 12,
   "metadata": {},
   "outputs": [
    {
     "name": "stdout",
     "output_type": "stream",
     "text": [
      "Iteration 1: 3.5998847423598908\n",
      "Iteration 2: 3.2397027740360733\n",
      "Iteration 3: 2.915409193801857\n",
      "Iteration 4: 2.6233320844027164\n",
      "Iteration 5: 2.36012014614112\n",
      "Iteration 6: 2.1226959969787713\n",
      "Iteration 7: 1.9082325664655648\n",
      "Iteration 8: 1.7142099803340822\n",
      "Iteration 9: 1.5387221410544631\n",
      "Iteration 10: 1.3814814395664508\n",
      "Iteration 11: 1.2464120246954635\n",
      "Iteration 12: 1.1456522295395097\n",
      "Iteration 13: 1.0948020030669283\n",
      "Iteration 14: 1.084316669581519\n",
      "Root is 1.084316669581519\n"
     ]
    }
   ],
   "source": [
    "#RHAPSON\n",
    "def f(x):\n",
    "    return x**10 + 2*x**4 - 5\n",
    "\n",
    "def g(x):\n",
    "    return 10*x**9 + 8*x**3\n",
    "\n",
    "def rhapson(x, error = 0.066, max_depth = 20):\n",
    "    for i in range(max_depth):\n",
    "        if np.abs(f(x)) < error:\n",
    "            print(f'Root is {x}')\n",
    "            return\n",
    "        x = x - (f(x)/g(x))\n",
    "        print(f'Iteration {i+1}: {x}')\n",
    "    print('Max Iteration Reach')\n",
    "    return\n",
    "\n",
    "rhapson(4)"
   ]
  },
  {
   "cell_type": "code",
   "execution_count": 21,
   "metadata": {},
   "outputs": [
    {
     "name": "stdout",
     "output_type": "stream",
     "text": [
      "Iteration 1: -2.0\n",
      "Iteration 2: -0.5\n",
      "Iteration 3: -1.25\n",
      "Iteration 4: -0.875\n",
      "Iteration 5: -1.0625\n",
      "Iteration 6: -1.15625\n",
      "Iteration 7: -1.109375\n",
      "Iteration 8: -1.0859375\n",
      "Iteration 9: -1.07421875\n",
      "Iteration 10: -1.080078125\n",
      "Iteration 11: -1.0830078125\n",
      "Iteration 12: -1.08447265625\n",
      "Iteration 13: -1.083740234375\n",
      "Iteration 14: -1.0841064453125\n",
      "Iteration 15: -1.08392333984375\n",
      "Root = -1.08392333984375\n"
     ]
    }
   ],
   "source": [
    "# BISECTION\n",
    "def f(x):\n",
    "    return x**10  + 2*x**4 -5\n",
    "\n",
    "def bisection(a, b, counter = 0, error = 0.001, iter = 20):\n",
    "    if counter > iter:\n",
    "        print('Max Depth Reach')\n",
    "        return\n",
    "    if np.sign(f(a)) == np.sign(f(b)):\n",
    "        print('Error same sign')\n",
    "        return\n",
    "    \n",
    "    c = (a + b) / 2\n",
    "    print(f\"Iteration {counter + 1}: {c}\")\n",
    "\n",
    "    if np.abs(f(c)) < error:\n",
    "        print(f'Root = {c}')\n",
    "        return \n",
    "    elif np.sign(f(a)) == np.sign(f(c)):\n",
    "        bisection(c, b, counter=counter + 1, error=error, iter=iter)\n",
    "    elif np.sign(f(b)) == np.sign(f(c)):\n",
    "        bisection(a, c, counter=counter + 1, error=error, iter=iter)\n",
    "\n",
    "bisection(-5, 1)"
   ]
  },
  {
   "cell_type": "code",
   "execution_count": null,
   "metadata": {},
   "outputs": [],
   "source": []
  }
 ],
 "metadata": {
  "kernelspec": {
   "display_name": "Python 3",
   "language": "python",
   "name": "python3"
  },
  "language_info": {
   "codemirror_mode": {
    "name": "ipython",
    "version": 3
   },
   "file_extension": ".py",
   "mimetype": "text/x-python",
   "name": "python",
   "nbconvert_exporter": "python",
   "pygments_lexer": "ipython3",
   "version": "3.13.0"
  }
 },
 "nbformat": 4,
 "nbformat_minor": 2
}
