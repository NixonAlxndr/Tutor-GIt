{
 "cells": [
  {
   "cell_type": "code",
   "execution_count": 1,
   "metadata": {},
   "outputs": [],
   "source": [
    "import numpy as np \n",
    "import matplotlib as plt"
   ]
  },
  {
   "cell_type": "code",
   "execution_count": 2,
   "metadata": {},
   "outputs": [
    {
     "ename": "ValueError",
     "evalue": "non-broadcastable output operand with shape (2,) doesn't match the broadcast shape (8,1,2)",
     "output_type": "error",
     "traceback": [
      "\u001b[1;31m---------------------------------------------------------------------------\u001b[0m",
      "\u001b[1;31mValueError\u001b[0m                                Traceback (most recent call last)",
      "Cell \u001b[1;32mIn[2], line 13\u001b[0m\n\u001b[0;32m      8\u001b[0m y \u001b[38;5;241m=\u001b[39m y[:, np\u001b[38;5;241m.\u001b[39mnewaxis]\n\u001b[0;32m     10\u001b[0m \u001b[38;5;66;03m# first = np.linalg.inv(np.dot(A.T, A))\u001b[39;00m\n\u001b[0;32m     11\u001b[0m \u001b[38;5;66;03m# second = np.dot(first, A.T)\u001b[39;00m\n\u001b[0;32m     12\u001b[0m \u001b[38;5;66;03m# result = np.dot(second, y)\u001b[39;00m\n\u001b[1;32m---> 13\u001b[0m result2 \u001b[38;5;241m=\u001b[39m np\u001b[38;5;241m.\u001b[39mdot(\u001b[43mnp\u001b[49m\u001b[38;5;241;43m.\u001b[39;49m\u001b[43mlinalg\u001b[49m\u001b[38;5;241;43m.\u001b[39;49m\u001b[43mpinv\u001b[49m\u001b[43m(\u001b[49m\u001b[43mA\u001b[49m\u001b[43m,\u001b[49m\u001b[43m \u001b[49m\u001b[43my\u001b[49m\u001b[43m)\u001b[49m)\n\u001b[0;32m     14\u001b[0m \u001b[38;5;28mprint\u001b[39m(result2)\n\u001b[0;32m     16\u001b[0m \u001b[38;5;66;03m# plt.plot(x, y, 'bo') #b -> blue #o -> bulat\u001b[39;00m\n\u001b[0;32m     17\u001b[0m \u001b[38;5;66;03m# plt.plot(x, result[0] * x + result[1], 'r-')\u001b[39;00m\n\u001b[0;32m     18\u001b[0m \u001b[38;5;66;03m# plt.title('Linear Square Regression')\u001b[39;00m\n\u001b[0;32m     19\u001b[0m \n\u001b[0;32m     20\u001b[0m \u001b[38;5;66;03m# plt.show()\u001b[39;00m\n",
      "File \u001b[1;32mc:\\Users\\Nixon\\AppData\\Local\\Programs\\Python\\Python313\\Lib\\site-packages\\numpy\\linalg\\_linalg.py:2276\u001b[0m, in \u001b[0;36mpinv\u001b[1;34m(a, rcond, hermitian, rtol)\u001b[0m\n\u001b[0;32m   2274\u001b[0m cutoff \u001b[38;5;241m=\u001b[39m rcond[\u001b[38;5;241m.\u001b[39m\u001b[38;5;241m.\u001b[39m\u001b[38;5;241m.\u001b[39m, newaxis] \u001b[38;5;241m*\u001b[39m amax(s, axis\u001b[38;5;241m=\u001b[39m\u001b[38;5;241m-\u001b[39m\u001b[38;5;241m1\u001b[39m, keepdims\u001b[38;5;241m=\u001b[39m\u001b[38;5;28;01mTrue\u001b[39;00m)\n\u001b[0;32m   2275\u001b[0m large \u001b[38;5;241m=\u001b[39m s \u001b[38;5;241m>\u001b[39m cutoff\n\u001b[1;32m-> 2276\u001b[0m s \u001b[38;5;241m=\u001b[39m \u001b[43mdivide\u001b[49m\u001b[43m(\u001b[49m\u001b[38;5;241;43m1\u001b[39;49m\u001b[43m,\u001b[49m\u001b[43m \u001b[49m\u001b[43ms\u001b[49m\u001b[43m,\u001b[49m\u001b[43m \u001b[49m\u001b[43mwhere\u001b[49m\u001b[38;5;241;43m=\u001b[39;49m\u001b[43mlarge\u001b[49m\u001b[43m,\u001b[49m\u001b[43m \u001b[49m\u001b[43mout\u001b[49m\u001b[38;5;241;43m=\u001b[39;49m\u001b[43ms\u001b[49m\u001b[43m)\u001b[49m\n\u001b[0;32m   2277\u001b[0m s[\u001b[38;5;241m~\u001b[39mlarge] \u001b[38;5;241m=\u001b[39m \u001b[38;5;241m0\u001b[39m\n\u001b[0;32m   2279\u001b[0m res \u001b[38;5;241m=\u001b[39m matmul(transpose(vt), multiply(s[\u001b[38;5;241m.\u001b[39m\u001b[38;5;241m.\u001b[39m\u001b[38;5;241m.\u001b[39m, newaxis], transpose(u)))\n",
      "\u001b[1;31mValueError\u001b[0m: non-broadcastable output operand with shape (2,) doesn't match the broadcast shape (8,1,2)"
     ]
    }
   ],
   "source": [
    "x = [1,2,3,4,5,6,7,8]\n",
    "y = [2,5,1,7,9,3,6,10]\n",
    "\n",
    "x = np.array(x)\n",
    "y = np.array(y)\n",
    "\n",
    "A = np.vstack([x, np.ones(len(x))]).T\n",
    "y = y[:, np.newaxis]\n",
    "\n",
    "# first = np.linalg.inv(np.dot(A.T, A))\n",
    "# second = np.dot(first, A.T)\n",
    "# result = np.dot(second, y)\n",
    "result2 = np.dot(np.linalg.pinv(A, y))\n",
    "print(result2)\n",
    "\n",
    "# plt.plot(x, y, 'bo') #b -> blue #o -> bulat\n",
    "# plt.plot(x, result[0] * x + result[1], 'r-')\n",
    "# plt.title('Linear Square Regression')\n",
    "\n",
    "# plt.show()"
   ]
  }
 ],
 "metadata": {
  "kernelspec": {
   "display_name": "Python 3",
   "language": "python",
   "name": "python3"
  },
  "language_info": {
   "codemirror_mode": {
    "name": "ipython",
    "version": 3
   },
   "file_extension": ".py",
   "mimetype": "text/x-python",
   "name": "python",
   "nbconvert_exporter": "python",
   "pygments_lexer": "ipython3",
   "version": "3.13.0"
  }
 },
 "nbformat": 4,
 "nbformat_minor": 2
}
